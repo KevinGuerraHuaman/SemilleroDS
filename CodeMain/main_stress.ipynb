{
 "cells": [
  {
   "cell_type": "code",
   "execution_count": 5,
   "metadata": {},
   "outputs": [],
   "source": [
    "import pickle\n",
    "import matplotlib.pyplot as plt\n",
    "import numpy as np\n",
    "import pandas as pd\n",
    "from sklearn.model_selection import train_test_split\n",
    "from sklearn.metrics import classification_report\n",
    "from sklearn.model_selection import train_test_split\n",
    "from sklearn.tree import DecisionTreeClassifier\n",
    "from sklearn.neighbors import KNeighborsClassifier  # para modelos  Knn "
   ]
  },
  {
   "cell_type": "code",
   "execution_count": 6,
   "metadata": {},
   "outputs": [],
   "source": [
    "data_train_collect = pd.read_pickle(\"Dataset_train_collect.pkl\")\n",
    "\n",
    "data_test_collect = pd.read_pickle(\"Dataset_test_collect.pkl\")"
   ]
  },
  {
   "cell_type": "code",
   "execution_count": 13,
   "metadata": {},
   "outputs": [
    {
     "data": {
      "text/plain": [
       "array([ 9.80000019e-01, -5.77999949e-02, -1.20199978e-01,  3.72024536e-01,\n",
       "        3.68919373e+00, -3.52478027e-03,  3.49093933e+01, -2.25219727e+00,\n",
       "        2.00000000e+00])"
      ]
     },
     "execution_count": 13,
     "metadata": {},
     "output_type": "execute_result"
    }
   ],
   "source": [
    "beta = data_test_collect.values\n",
    "\n",
    "# calculo de outliers\n",
    "Q1 = data_train_collect.quantile(0.25)\n",
    "Q3 = data_train_collect.quantile(0.75)\n",
    "IQR = Q3 - Q1\n",
    "#print(\"IQR is\\n\", IQR)\n",
    "\n",
    "# eliminar outliers\n",
    "df_out = data_train_collect[~((data_train_collect < (Q1 - 1.5 * IQR)) |(data_train_collect > (Q3 + 1.5 * IQR))).any(axis=1)]\n",
    "beta[526]"
   ]
  },
  {
   "cell_type": "code",
   "execution_count": 3,
   "metadata": {},
   "outputs": [
    {
     "data": {
      "image/png": "[encoded data removed]",
      "text/plain": [
       "<Figure size 1440x720 with 9 Axes>"
      ]
     },
     "metadata": {
      "needs_background": "light"
     },
     "output_type": "display_data"
    }
   ],
   "source": [
    "data_train_collect.plot(kind='box', subplots=True, layout=(3,3), sharex=False, sharey=False ,figsize=(20,10))\n",
    "plt.show()"
   ]
  },
  {
   "cell_type": "code",
   "execution_count": 3,
   "metadata": {},
   "outputs": [],
   "source": [
    "# calculo de outliers\n",
    "Q1 = data_train_collect.quantile(0.25)\n",
    "Q3 = data_train_collect.quantile(0.75)\n",
    "IQR = Q3 - Q1\n",
    "#print(\"IQR is\\n\", IQR)\n",
    "\n",
    "# eliminar outliers\n",
    "df_out = data_train_collect[~((data_train_collect < (Q1 - 1.5 * IQR)) |(data_train_collect > (Q3 + 1.5 * IQR))).any(axis=1)]\n"
   ]
  },
  {
   "cell_type": "code",
   "execution_count": 4,
   "metadata": {},
   "outputs": [
    {
     "data": {
      "text/html": [
       "<div>\n",
       "<style scoped>\n",
       "    .dataframe tbody tr th:only-of-type {\n",
       "        vertical-align: middle;\n",
       "    }\n",
       "\n",
       "    .dataframe tbody tr th {\n",
       "        vertical-align: top;\n",
       "    }\n",
       "\n",
       "    .dataframe thead th {\n",
       "        text-align: right;\n",
       "    }\n",
       "</style>\n",
       "<table border=\"1\" class=\"dataframe\">\n",
       "  <thead>\n",
       "    <tr style=\"text-align: right;\">\n",
       "      <th></th>\n",
       "      <th>pecho_ax</th>\n",
       "      <th>pecho_ay</th>\n",
       "      <th>pecho_az</th>\n",
       "      <th>pecho_ecg</th>\n",
       "      <th>pecho_eda</th>\n",
       "      <th>pecho_emg</th>\n",
       "      <th>pecho_temp</th>\n",
       "      <th>pecho_resp</th>\n",
       "      <th>label</th>\n",
       "    </tr>\n",
       "  </thead>\n",
       "  <tbody>\n",
       "    <tr>\n",
       "      <th>count</th>\n",
       "      <td>9.035022e+06</td>\n",
       "      <td>9.035022e+06</td>\n",
       "      <td>9.035022e+06</td>\n",
       "      <td>9.035022e+06</td>\n",
       "      <td>9.035022e+06</td>\n",
       "      <td>9.035022e+06</td>\n",
       "      <td>9.035022e+06</td>\n",
       "      <td>9.035022e+06</td>\n",
       "      <td>9.035022e+06</td>\n",
       "    </tr>\n",
       "    <tr>\n",
       "      <th>mean</th>\n",
       "      <td>8.371469e-01</td>\n",
       "      <td>-2.399042e-02</td>\n",
       "      <td>-2.598469e-01</td>\n",
       "      <td>-3.000387e-02</td>\n",
       "      <td>4.770812e+00</td>\n",
       "      <td>-3.013112e-03</td>\n",
       "      <td>3.424406e+01</td>\n",
       "      <td>-1.509208e-03</td>\n",
       "      <td>1.342309e+00</td>\n",
       "    </tr>\n",
       "    <tr>\n",
       "      <th>std</th>\n",
       "      <td>9.131388e-02</td>\n",
       "      <td>6.638944e-02</td>\n",
       "      <td>2.776629e-01</td>\n",
       "      <td>9.226227e-02</td>\n",
       "      <td>3.120676e+00</td>\n",
       "      <td>1.036571e-02</td>\n",
       "      <td>6.320675e-01</td>\n",
       "      <td>3.084927e+00</td>\n",
       "      <td>1.505583e+00</td>\n",
       "    </tr>\n",
       "    <tr>\n",
       "      <th>min</th>\n",
       "      <td>5.480000e-01</td>\n",
       "      <td>-2.226000e-01</td>\n",
       "      <td>-1.057800e+00</td>\n",
       "      <td>-2.787323e-01</td>\n",
       "      <td>3.921509e-01</td>\n",
       "      <td>-3.190613e-02</td>\n",
       "      <td>3.210574e+01</td>\n",
       "      <td>-8.410645e+00</td>\n",
       "      <td>0.000000e+00</td>\n",
       "    </tr>\n",
       "    <tr>\n",
       "      <th>25%</th>\n",
       "      <td>8.078001e-01</td>\n",
       "      <td>-5.839998e-02</td>\n",
       "      <td>-4.406000e-01</td>\n",
       "      <td>-8.171082e-02</td>\n",
       "      <td>2.373886e+00</td>\n",
       "      <td>-9.567261e-03</td>\n",
       "      <td>3.388101e+01</td>\n",
       "      <td>-2.064514e+00</td>\n",
       "      <td>0.000000e+00</td>\n",
       "    </tr>\n",
       "    <tr>\n",
       "      <th>50%</th>\n",
       "      <td>8.712000e-01</td>\n",
       "      <td>-2.420002e-02</td>\n",
       "      <td>-2.494000e-01</td>\n",
       "      <td>-2.787781e-02</td>\n",
       "      <td>3.713608e+00</td>\n",
       "      <td>-2.746582e-03</td>\n",
       "      <td>3.431534e+01</td>\n",
       "      <td>-2.288818e-01</td>\n",
       "      <td>1.000000e+00</td>\n",
       "    </tr>\n",
       "    <tr>\n",
       "      <th>75%</th>\n",
       "      <td>9.033999e-01</td>\n",
       "      <td>1.940000e-02</td>\n",
       "      <td>-8.099997e-02</td>\n",
       "      <td>2.316284e-02</td>\n",
       "      <td>7.021713e+00</td>\n",
       "      <td>3.433228e-03</td>\n",
       "      <td>3.467853e+01</td>\n",
       "      <td>2.085876e+00</td>\n",
       "      <td>2.000000e+00</td>\n",
       "    </tr>\n",
       "    <tr>\n",
       "      <th>max</th>\n",
       "      <td>1.112800e+00</td>\n",
       "      <td>1.582000e-01</td>\n",
       "      <td>5.290000e-01</td>\n",
       "      <td>2.200470e-01</td>\n",
       "      <td>1.414909e+01</td>\n",
       "      <td>2.595520e-02</td>\n",
       "      <td>3.574686e+01</td>\n",
       "      <td>8.520508e+00</td>\n",
       "      <td>5.000000e+00</td>\n",
       "    </tr>\n",
       "  </tbody>\n",
       "</table>\n",
       "</div>"
      ],
      "text/plain": [
       "           pecho_ax      pecho_ay      pecho_az     pecho_ecg     pecho_eda  \\\n",
       "count  9.035022e+06  9.035022e+06  9.035022e+06  9.035022e+06  9.035022e+06   \n",
       "mean   8.371469e-01 -2.399042e-02 -2.598469e-01 -3.000387e-02  4.770812e+00   \n",
       "std    9.131388e-02  6.638944e-02  2.776629e-01  9.226227e-02  3.120676e+00   \n",
       "min    5.480000e-01 -2.226000e-01 -1.057800e+00 -2.787323e-01  3.921509e-01   \n",
       "25%    8.078001e-01 -5.839998e-02 -4.406000e-01 -8.171082e-02  2.373886e+00   \n",
       "50%    8.712000e-01 -2.420002e-02 -2.494000e-01 -2.787781e-02  3.713608e+00   \n",
       "75%    9.033999e-01  1.940000e-02 -8.099997e-02  2.316284e-02  7.021713e+00   \n",
       "max    1.112800e+00  1.582000e-01  5.290000e-01  2.200470e-01  1.414909e+01   \n",
       "\n",
       "          pecho_emg    pecho_temp    pecho_resp         label  \n",
       "count  9.035022e+06  9.035022e+06  9.035022e+06  9.035022e+06  \n",
       "mean  -3.013112e-03  3.424406e+01 -1.509208e-03  1.342309e+00  \n",
       "std    1.036571e-02  6.320675e-01  3.084927e+00  1.505583e+00  \n",
       "min   -3.190613e-02  3.210574e+01 -8.410645e+00  0.000000e+00  \n",
       "25%   -9.567261e-03  3.388101e+01 -2.064514e+00  0.000000e+00  \n",
       "50%   -2.746582e-03  3.431534e+01 -2.288818e-01  1.000000e+00  \n",
       "75%    3.433228e-03  3.467853e+01  2.085876e+00  2.000000e+00  \n",
       "max    2.595520e-02  3.574686e+01  8.520508e+00  5.000000e+00  "
      ]
     },
     "execution_count": 4,
     "metadata": {},
     "output_type": "execute_result"
    }
   ],
   "source": [
    "df_out.describe()"
   ]
  },
  {
   "cell_type": "code",
   "execution_count": 5,
   "metadata": {},
   "outputs": [
    {
     "data": {
      "text/plain": [
       "array([[<AxesSubplot:title={'center':'pecho_ax'}>,\n",
       "        <AxesSubplot:title={'center':'pecho_ay'}>,\n",
       "        <AxesSubplot:title={'center':'pecho_az'}>],\n",
       "       [<AxesSubplot:title={'center':'pecho_ecg'}>,\n",
       "        <AxesSubplot:title={'center':'pecho_eda'}>,\n",
       "        <AxesSubplot:title={'center':'pecho_emg'}>],\n",
       "       [<AxesSubplot:title={'center':'pecho_temp'}>,\n",
       "        <AxesSubplot:title={'center':'pecho_resp'}>,\n",
       "        <AxesSubplot:title={'center':'label'}>]], dtype=object)"
      ]
     },
     "execution_count": 5,
     "metadata": {},
     "output_type": "execute_result"
    },
    {
     "data": {
      "image/png": "[encoded data removed]",
      "text/plain": [
       "<Figure size 1440x1080 with 9 Axes>"
      ]
     },
     "metadata": {
      "needs_background": "light"
     },
     "output_type": "display_data"
    }
   ],
   "source": [
    "df_out.hist(bins=100,layout=(3,3), figsize = (20,15))"
   ]
  },
  {
   "cell_type": "code",
   "execution_count": 6,
   "metadata": {},
   "outputs": [
    {
     "data": {
      "text/plain": [
       "Index(['pecho_ax', 'pecho_ay', 'pecho_az', 'pecho_ecg', 'pecho_eda',\n",
       "       'pecho_emg', 'pecho_temp', 'pecho_resp', 'label'],\n",
       "      dtype='object')"
      ]
     },
     "execution_count": 6,
     "metadata": {},
     "output_type": "execute_result"
    }
   ],
   "source": [
    "df_out.columns"
   ]
  },
  {
   "cell_type": "code",
   "execution_count": 7,
   "metadata": {},
   "outputs": [],
   "source": [
    "X_out = df_out.iloc[:,0:8].values\n",
    "Y_out = df_out.iloc[:,8].values"
   ]
  },
  {
   "cell_type": "code",
   "execution_count": 8,
   "metadata": {},
   "outputs": [],
   "source": [
    "from sklearn.preprocessing import StandardScaler\n",
    "\n",
    "scaler = StandardScaler()\n",
    "\n",
    "array_transformed = scaler.fit_transform(X_out)\n",
    "\n",
    "df_transformed = pd.DataFrame(array_transformed,columns=list(df_out.columns)[0:8])\n"
   ]
  },
  {
   "cell_type": "code",
   "execution_count": 9,
   "metadata": {},
   "outputs": [
    {
     "data": {
      "text/html": [
       "<div>\n",
       "<style scoped>\n",
       "    .dataframe tbody tr th:only-of-type {\n",
       "        vertical-align: middle;\n",
       "    }\n",
       "\n",
       "    .dataframe tbody tr th {\n",
       "        vertical-align: top;\n",
       "    }\n",
       "\n",
       "    .dataframe thead th {\n",
       "        text-align: right;\n",
       "    }\n",
       "</style>\n",
       "<table border=\"1\" class=\"dataframe\">\n",
       "  <thead>\n",
       "    <tr style=\"text-align: right;\">\n",
       "      <th></th>\n",
       "      <th>pecho_ax</th>\n",
       "      <th>pecho_ay</th>\n",
       "      <th>pecho_az</th>\n",
       "      <th>pecho_ecg</th>\n",
       "      <th>pecho_eda</th>\n",
       "      <th>pecho_emg</th>\n",
       "      <th>pecho_temp</th>\n",
       "      <th>pecho_resp</th>\n",
       "    </tr>\n",
       "  </thead>\n",
       "  <tbody>\n",
       "    <tr>\n",
       "      <th>count</th>\n",
       "      <td>9.035022e+06</td>\n",
       "      <td>9.035022e+06</td>\n",
       "      <td>9.035022e+06</td>\n",
       "      <td>9.035022e+06</td>\n",
       "      <td>9.035022e+06</td>\n",
       "      <td>9.035022e+06</td>\n",
       "      <td>9.035022e+06</td>\n",
       "      <td>9.035022e+06</td>\n",
       "    </tr>\n",
       "    <tr>\n",
       "      <th>mean</th>\n",
       "      <td>1.867303e-17</td>\n",
       "      <td>3.294205e-17</td>\n",
       "      <td>4.846936e-17</td>\n",
       "      <td>-5.098594e-17</td>\n",
       "      <td>-5.217376e-16</td>\n",
       "      <td>2.136578e-17</td>\n",
       "      <td>-8.812061e-16</td>\n",
       "      <td>-4.632082e-19</td>\n",
       "    </tr>\n",
       "    <tr>\n",
       "      <th>std</th>\n",
       "      <td>1.000000e+00</td>\n",
       "      <td>1.000000e+00</td>\n",
       "      <td>1.000000e+00</td>\n",
       "      <td>1.000000e+00</td>\n",
       "      <td>1.000000e+00</td>\n",
       "      <td>1.000000e+00</td>\n",
       "      <td>1.000000e+00</td>\n",
       "      <td>1.000000e+00</td>\n",
       "    </tr>\n",
       "    <tr>\n",
       "      <th>min</th>\n",
       "      <td>-3.166517e+00</td>\n",
       "      <td>-2.991584e+00</td>\n",
       "      <td>-2.873820e+00</td>\n",
       "      <td>-2.695885e+00</td>\n",
       "      <td>-1.403113e+00</td>\n",
       "      <td>-2.787365e+00</td>\n",
       "      <td>-3.383050e+00</td>\n",
       "      <td>-2.725879e+00</td>\n",
       "    </tr>\n",
       "    <tr>\n",
       "      <th>25%</th>\n",
       "      <td>-3.213846e-01</td>\n",
       "      <td>-5.182986e-01</td>\n",
       "      <td>-6.509803e-01</td>\n",
       "      <td>-5.604344e-01</td>\n",
       "      <td>-7.680793e-01</td>\n",
       "      <td>-6.322914e-01</td>\n",
       "      <td>-5.743802e-01</td>\n",
       "      <td>-6.687371e-01</td>\n",
       "    </tr>\n",
       "    <tr>\n",
       "      <th>50%</th>\n",
       "      <td>3.729229e-01</td>\n",
       "      <td>-3.157125e-03</td>\n",
       "      <td>3.762430e-02</td>\n",
       "      <td>2.304372e-02</td>\n",
       "      <td>-3.387743e-01</td>\n",
       "      <td>2.571262e-02</td>\n",
       "      <td>1.127715e-01</td>\n",
       "      <td>-7.370439e-02</td>\n",
       "    </tr>\n",
       "    <tr>\n",
       "      <th>75%</th>\n",
       "      <td>7.255525e-01</td>\n",
       "      <td>6.535742e-01</td>\n",
       "      <td>6.441153e-01</td>\n",
       "      <td>5.762563e-01</td>\n",
       "      <td>7.212864e-01</td>\n",
       "      <td>6.218908e-01</td>\n",
       "      <td>6.873774e-01</td>\n",
       "      <td>6.766403e-01</td>\n",
       "    </tr>\n",
       "    <tr>\n",
       "      <th>max</th>\n",
       "      <td>3.018741e+00</td>\n",
       "      <td>2.744269e+00</td>\n",
       "      <td>2.841024e+00</td>\n",
       "      <td>2.710218e+00</td>\n",
       "      <td>3.005209e+00</td>\n",
       "      <td>2.794629e+00</td>\n",
       "      <td>2.377591e+00</td>\n",
       "      <td>2.762470e+00</td>\n",
       "    </tr>\n",
       "  </tbody>\n",
       "</table>\n",
       "</div>"
      ],
      "text/plain": [
       "           pecho_ax      pecho_ay      pecho_az     pecho_ecg     pecho_eda  \\\n",
       "count  9.035022e+06  9.035022e+06  9.035022e+06  9.035022e+06  9.035022e+06   \n",
       "mean   1.867303e-17  3.294205e-17  4.846936e-17 -5.098594e-17 -5.217376e-16   \n",
       "std    1.000000e+00  1.000000e+00  1.000000e+00  1.000000e+00  1.000000e+00   \n",
       "min   -3.166517e+00 -2.991584e+00 -2.873820e+00 -2.695885e+00 -1.403113e+00   \n",
       "25%   -3.213846e-01 -5.182986e-01 -6.509803e-01 -5.604344e-01 -7.680793e-01   \n",
       "50%    3.729229e-01 -3.157125e-03  3.762430e-02  2.304372e-02 -3.387743e-01   \n",
       "75%    7.255525e-01  6.535742e-01  6.441153e-01  5.762563e-01  7.212864e-01   \n",
       "max    3.018741e+00  2.744269e+00  2.841024e+00  2.710218e+00  3.005209e+00   \n",
       "\n",
       "          pecho_emg    pecho_temp    pecho_resp  \n",
       "count  9.035022e+06  9.035022e+06  9.035022e+06  \n",
       "mean   2.136578e-17 -8.812061e-16 -4.632082e-19  \n",
       "std    1.000000e+00  1.000000e+00  1.000000e+00  \n",
       "min   -2.787365e+00 -3.383050e+00 -2.725879e+00  \n",
       "25%   -6.322914e-01 -5.743802e-01 -6.687371e-01  \n",
       "50%    2.571262e-02  1.127715e-01 -7.370439e-02  \n",
       "75%    6.218908e-01  6.873774e-01  6.766403e-01  \n",
       "max    2.794629e+00  2.377591e+00  2.762470e+00  "
      ]
     },
     "execution_count": 9,
     "metadata": {},
     "output_type": "execute_result"
    }
   ],
   "source": [
    "df_transformed.describe()"
   ]
  },
  {
   "cell_type": "code",
   "execution_count": 10,
   "metadata": {},
   "outputs": [],
   "source": [
    "X_out_transfo = df_transformed.iloc[:,0:8].values\n",
    "\n",
    "X_train, X_test, Y_train, Y_test = train_test_split(X_out_transfo,Y_out,test_size=0.25, random_state=9)"
   ]
  },
  {
   "cell_type": "code",
   "execution_count": 11,
   "metadata": {},
   "outputs": [
    {
     "data": {
      "text/plain": [
       "KNeighborsClassifier()"
      ]
     },
     "execution_count": 11,
     "metadata": {},
     "output_type": "execute_result"
    }
   ],
   "source": [
    "model_KNN = KNeighborsClassifier()\n",
    "\n",
    "model_KNN.fit(X_train, Y_train)"
   ]
  },
  {
   "cell_type": "code",
   "execution_count": 12,
   "metadata": {},
   "outputs": [],
   "source": [
    "#model_KNN.score(X_test,Y_test)\n",
    "#0.93"
   ]
  },
  {
   "cell_type": "code",
   "execution_count": 13,
   "metadata": {},
   "outputs": [
    {
     "data": {
      "text/plain": [
       "0.981263137762556"
      ]
     },
     "execution_count": 13,
     "metadata": {},
     "output_type": "execute_result"
    }
   ],
   "source": [
    "model_tree = DecisionTreeClassifier()\n",
    "model_tree.fit(X_train,Y_train)\n",
    "\n",
    "model_tree.score(X_test, Y_test)"
   ]
  },
  {
   "cell_type": "code",
   "execution_count": 14,
   "metadata": {},
   "outputs": [
    {
     "data": {
      "text/plain": [
       "GridSearchCV(cv=5, estimator=DecisionTreeClassifier(),\n",
       "             param_grid=[{'max_depth': [5, 10, 20, 30],\n",
       "                          'min_samples_leaf': [10, 20, 30, 40, 50]}],\n",
       "             scoring='balanced_accuracy')"
      ]
     },
     "execution_count": 14,
     "metadata": {},
     "output_type": "execute_result"
    }
   ],
   "source": [
    "from sklearn.model_selection import GridSearchCV\n",
    "\n",
    "param_tree = [\n",
    "            {'max_depth':[5,10,20,30],'min_samples_leaf':[10,20,30,40,50]}\n",
    "]\n",
    "\n",
    "model_tree_grid = DecisionTreeClassifier()\n",
    "\n",
    "grid_search = GridSearchCV(model_tree_grid, param_tree, cv=5, scoring='balanced_accuracy')\n",
    "\n",
    "grid_search.fit(X_train,Y_train)"
   ]
  },
  {
   "cell_type": "code",
   "execution_count": 15,
   "metadata": {},
   "outputs": [
    {
     "name": "stdout",
     "output_type": "stream",
     "text": [
      "0.41969571394703653 {'max_depth': 5, 'min_samples_leaf': 10}\n",
      "0.41969571394703653 {'max_depth': 5, 'min_samples_leaf': 20}\n",
      "0.41969571394703653 {'max_depth': 5, 'min_samples_leaf': 30}\n",
      "0.41969571394703653 {'max_depth': 5, 'min_samples_leaf': 40}\n",
      "0.41969571394703653 {'max_depth': 5, 'min_samples_leaf': 50}\n",
      "0.782479291576611 {'max_depth': 10, 'min_samples_leaf': 10}\n",
      "0.7824132257358449 {'max_depth': 10, 'min_samples_leaf': 20}\n",
      "0.7823688832636394 {'max_depth': 10, 'min_samples_leaf': 30}\n",
      "0.7823326530821342 {'max_depth': 10, 'min_samples_leaf': 40}\n",
      "0.7822994847324759 {'max_depth': 10, 'min_samples_leaf': 50}\n",
      "0.966965596569119 {'max_depth': 20, 'min_samples_leaf': 10}\n",
      "0.9652172123095994 {'max_depth': 20, 'min_samples_leaf': 20}\n",
      "0.9634945621295413 {'max_depth': 20, 'min_samples_leaf': 30}\n",
      "0.9619168147101661 {'max_depth': 20, 'min_samples_leaf': 40}\n",
      "0.9604965617734532 {'max_depth': 20, 'min_samples_leaf': 50}\n",
      "0.9690552206207288 {'max_depth': 30, 'min_samples_leaf': 10}\n",
      "0.967592401601187 {'max_depth': 30, 'min_samples_leaf': 20}\n",
      "0.9658009255598291 {'max_depth': 30, 'min_samples_leaf': 30}\n",
      "0.9639345424330935 {'max_depth': 30, 'min_samples_leaf': 40}\n",
      "0.962252604464512 {'max_depth': 30, 'min_samples_leaf': 50}\n"
     ]
    }
   ],
   "source": [
    "cvres = grid_search.cv_results_\n",
    "for mean_score, params in zip(cvres[\"mean_test_score\"],cvres[\"params\"]):\n",
    "    print(mean_score,params)"
   ]
  },
  {
   "cell_type": "code",
   "execution_count": 23,
   "metadata": {},
   "outputs": [
    {
     "data": {
      "text/plain": [
       "0.9569581663535149"
      ]
     },
     "execution_count": 23,
     "metadata": {},
     "output_type": "execute_result"
    }
   ],
   "source": [
    "model_tree_best = DecisionTreeClassifier(max_depth=15,min_samples_leaf=10)\n",
    "model_tree_best.fit(X_train,Y_train)\n",
    "\n",
    "model_tree_best.score(X_test, Y_test)"
   ]
  },
  {
   "cell_type": "code",
   "execution_count": 24,
   "metadata": {},
   "outputs": [],
   "source": [
    "from micromlgen import port\n",
    "\n",
    "c_code = port(model_tree_best)\n",
    "    \n",
    "with open('model_tree_best5.h', 'w') as file:\n",
    "    file.write(c_code)\n"
   ]
  },
  {
   "cell_type": "code",
   "execution_count": 25,
   "metadata": {},
   "outputs": [
    {
     "data": {
      "text/plain": [
       "array([-0.15930679,  0.65959843, -0.66394571,  0.25970957, -0.41468499,\n",
       "        0.24651935,  0.3766817 , -0.76024259])"
      ]
     },
     "execution_count": 25,
     "metadata": {},
     "output_type": "execute_result"
    }
   ],
   "source": [
    "X_test[10]"
   ]
  },
  {
   "cell_type": "code",
   "execution_count": 29,
   "metadata": {},
   "outputs": [
    {
     "data": {
      "text/plain": [
       "array([2.])"
      ]
     },
     "execution_count": 29,
     "metadata": {},
     "output_type": "execute_result"
    }
   ],
   "source": [
    "model_tree_best.predict([X_test[10]])"
   ]
  },
  {
   "cell_type": "code",
   "execution_count": 30,
   "metadata": {},
   "outputs": [
    {
     "data": {
      "text/plain": [
       "GridSearchCV(cv=5, estimator=DecisionTreeClassifier(),\n",
       "             param_grid=[{'max_depth': [12, 15], 'min_samples_leaf': [10, 30],\n",
       "                          'min_samples_split': [5, 15, 30]}],\n",
       "             scoring='balanced_accuracy')"
      ]
     },
     "execution_count": 30,
     "metadata": {},
     "output_type": "execute_result"
    }
   ],
   "source": [
    "param_tree2 = [\n",
    "            {'max_depth':[12,15],'min_samples_leaf':[10,30], 'min_samples_split':[5,15,30]}\n",
    "]\n",
    "\n",
    "model_tree_grid2 = DecisionTreeClassifier()\n",
    "\n",
    "grid_search2 = GridSearchCV(model_tree_grid2, param_tree2, cv=5, scoring='balanced_accuracy')\n",
    "\n",
    "grid_search2.fit(X_train,Y_train)"
   ]
  },
  {
   "cell_type": "code",
   "execution_count": 31,
   "metadata": {},
   "outputs": [
    {
     "name": "stdout",
     "output_type": "stream",
     "text": [
      "0.891492856293962 {'max_depth': 12, 'min_samples_leaf': 10, 'min_samples_split': 5}\n",
      "0.8914895166376422 {'max_depth': 12, 'min_samples_leaf': 10, 'min_samples_split': 15}\n",
      "0.8914917984046824 {'max_depth': 12, 'min_samples_leaf': 10, 'min_samples_split': 30}\n",
      "0.8908777166124112 {'max_depth': 12, 'min_samples_leaf': 30, 'min_samples_split': 5}\n",
      "0.8908792367861726 {'max_depth': 12, 'min_samples_leaf': 30, 'min_samples_split': 15}\n",
      "0.890878813189871 {'max_depth': 12, 'min_samples_leaf': 30, 'min_samples_split': 30}\n",
      "0.9379177696317458 {'max_depth': 15, 'min_samples_leaf': 10, 'min_samples_split': 5}\n",
      "0.9379083181076957 {'max_depth': 15, 'min_samples_leaf': 10, 'min_samples_split': 15}\n",
      "0.9377891994250597 {'max_depth': 15, 'min_samples_leaf': 10, 'min_samples_split': 30}\n",
      "0.9363993497313323 {'max_depth': 15, 'min_samples_leaf': 30, 'min_samples_split': 5}\n",
      "0.9363984698760079 {'max_depth': 15, 'min_samples_leaf': 30, 'min_samples_split': 15}\n",
      "0.9363991038233236 {'max_depth': 15, 'min_samples_leaf': 30, 'min_samples_split': 30}\n"
     ]
    }
   ],
   "source": [
    "cvres2 = grid_search2.cv_results_\n",
    "for mean_score, params in zip(cvres2[\"mean_test_score\"],cvres2[\"params\"]):\n",
    "    print(mean_score,params)"
   ]
  },
  {
   "cell_type": "code",
   "execution_count": 43,
   "metadata": {},
   "outputs": [
    {
     "data": {
      "text/plain": [
       "0.9769620977210465"
      ]
     },
     "execution_count": 43,
     "metadata": {},
     "output_type": "execute_result"
    }
   ],
   "source": [
    "model_tree_best = DecisionTreeClassifier(max_depth=20,min_samples_leaf=10, min_samples_split= 5 ,random_state=9)\n",
    "model_tree_best.fit(X_train,Y_train)\n",
    "#model_tree_best.fit(X_out_transfo,Y_out)\n",
    "model_tree_best.score(X_test, Y_test)\n",
    "\n",
    "#max_depth=15,min_samples_leaf=5, min_samples_split= 5 ,random_state=9 --> 0.95710\n",
    "#max_depth=20,min_samples_leaf=10, min_samples_split= 5 ,random_state=9 --> 0.976962"
   ]
  },
  {
   "cell_type": "code",
   "execution_count": 40,
   "metadata": {},
   "outputs": [],
   "source": [
    "c_code = port(model_tree_best)\n",
    "    \n",
    "with open('tree_best.h', 'w') as file:\n",
    "    file.write(c_code)"
   ]
  }
 ],
 "metadata": {
  "interpreter": {
   "hash": "31168127679faea11909152d50c5877e2d73f931f4948b05a71e693450170ce5"
  },
  "kernelspec": {
   "display_name": "Python 3.8.10 ('semillero': venv)",
   "language": "python",
   "name": "python3"
  },
  "language_info": {
   "codemirror_mode": {
    "name": "ipython",
    "version": 3
   },
   "file_extension": ".py",
   "mimetype": "text/x-python",
   "name": "python",
   "nbconvert_exporter": "python",
   "pygments_lexer": "ipython3",
   "version": "3.8.10"
  },
  "orig_nbformat": 4
 },
 "nbformat": 4,
 "nbformat_minor": 2
}
